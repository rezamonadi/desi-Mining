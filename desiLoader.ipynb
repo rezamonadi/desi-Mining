{
 "cells": [
  {
   "cell_type": "code",
   "execution_count": 32,
   "id": "6aefbb31",
   "metadata": {},
   "outputs": [
    {
     "name": "stdout",
     "output_type": "stream",
     "text": [
      "INFO:spectra.py:451:read_spectra: iotime 0.402 sec to read spectra from:  coadd-main-dark-0.fits at 2025-05-08T21:10:32.335520\n",
      "Arms available: dict_keys(['b', 'r', 'z'])\n",
      "(1704, 2881)\n",
      "(1704, 2881)\n",
      "(2881,)\n",
      "Number of QSOs: 271\n"
     ]
    }
   ],
   "source": [
    "import matplotlib.pyplot as plt\n",
    "from desispec.io.spectra import read_spectra\n",
    "import numpy as np\n",
    "from desitarget.targetmask import desi_mask\n",
    "# Load the coadded spectra\n",
    "spec = read_spectra(\"coadd-main-dark-0.fits\")\n",
    "\n",
    "# Inspect the available arms (b, r, z)\n",
    "print(\"Arms available:\", spec.wave.keys())  # usually: 'b', 'r', 'z'\n",
    "\n",
    "# Let's choose one arm to plot (e.g. 'r' = red)\n",
    "arm = 'z'\n",
    "print(spec.flux[arm].shape)  # shape of the flux array\n",
    "print(spec.ivar[arm].shape)  # shape of the ivar array\n",
    "print(spec.wave[arm].shape)  # shape of the mask array\n",
    "fibermap = spec.fibermap\n",
    "\n",
    "# Boolean mask for QSOs\n",
    "is_qso = (fibermap['DESI_TARGET'] & desi_mask.QSO) != 0\n",
    "\n",
    "# Print how many QSOs are in the file\n",
    "print(f\"Number of QSOs: {is_qso.sum()}\")"
   ]
  },
  {
   "cell_type": "code",
   "execution_count": null,
   "id": "eeac0d6c",
   "metadata": {},
   "outputs": [],
   "source": [
    "\n",
    "# Pick the first target in the spectra (index 0)\n",
    "flux = spec.flux[arm][0]\n",
    "wave = spec.wave[arm]\n",
    "ivar = spec.ivar[arm][0]  # Inverse variance\n",
    "\n",
    "# Optional: mask bad pixels using the inverse variance\n",
    "good = ivar > 0\n",
    "wave = wave[good]\n",
    "flux = flux[good]\n",
    "\n",
    "# Plot the spectrum\n",
    "plt.figure(figsize=(10, 5))\n",
    "plt.plot(wave, flux, label=f'Arm: {arm.upper()}', lw=0.8)\n",
    "plt.xlabel(\"Wavelength [Å]\")\n",
    "plt.ylabel(\"Flux [1e-17 erg/s/cm²/Å]\")\n",
    "plt.title(\"DESI Coadded Spectrum\")\n",
    "plt.grid(True)\n",
    "plt.legend()\n",
    "plt.tight_layout()\n",
    "plt.show()\n"
   ]
  },
  {
   "cell_type": "code",
   "execution_count": null,
   "id": "28edd763",
   "metadata": {},
   "outputs": [],
   "source": []
  }
 ],
 "metadata": {
  "kernelspec": {
   "display_name": "desi",
   "language": "python",
   "name": "python3"
  },
  "language_info": {
   "codemirror_mode": {
    "name": "ipython",
    "version": 3
   },
   "file_extension": ".py",
   "mimetype": "text/x-python",
   "name": "python",
   "nbconvert_exporter": "python",
   "pygments_lexer": "ipython3",
   "version": "3.10.17"
  }
 },
 "nbformat": 4,
 "nbformat_minor": 5
}
